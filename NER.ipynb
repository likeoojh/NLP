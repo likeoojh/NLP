{
 "cells": [
  {
   "cell_type": "markdown",
   "metadata": {},
   "source": [
    "what is Named entity recognition \n",
    "- nlp task to identify important named entities in the text\n",
    "\t- people, places, organizations\n",
    "\t- Dates, states, works of art \n",
    "\t- ..and other categories!\n",
    "    \n",
    "   https://keep-steady.tistory.com/20"
   ]
  },
  {
   "cell_type": "code",
   "execution_count": 1,
   "metadata": {
    "ExecuteTime": {
     "end_time": "2020-06-27T02:38:09.553916Z",
     "start_time": "2020-06-27T02:38:08.922406Z"
    }
   },
   "outputs": [],
   "source": [
    "from sklearn.datasets import fetch_20newsgroups\n",
    "article = fetch_20newsgroups(subset='train')['data'][:10]\n",
    "\n",
    "import nltk\n",
    "from nltk.tokenize import word_tokenize, sent_tokenize"
   ]
  },
  {
   "cell_type": "code",
   "execution_count": null,
   "metadata": {
    "ExecuteTime": {
     "end_time": "2020-06-27T02:38:09.735886Z",
     "start_time": "2020-06-27T02:38:09.226Z"
    }
   },
   "outputs": [],
   "source": [
    "nltk.download('averaged_perceptron_tagger')"
   ]
  },
  {
   "cell_type": "code",
   "execution_count": 2,
   "metadata": {
    "ExecuteTime": {
     "end_time": "2020-06-27T02:38:11.647224Z",
     "start_time": "2020-06-27T02:38:10.004821Z"
    }
   },
   "outputs": [
    {
     "name": "stderr",
     "output_type": "stream",
     "text": [
      "[nltk_data] Downloading package maxent_ne_chunker to\n",
      "[nltk_data]     C:\\Users\\likeo\\AppData\\Roaming\\nltk_data...\n",
      "[nltk_data]   Package maxent_ne_chunker is already up-to-date!\n"
     ]
    },
    {
     "data": {
      "text/plain": [
       "True"
      ]
     },
     "execution_count": 2,
     "metadata": {},
     "output_type": "execute_result"
    }
   ],
   "source": [
    "nltk.download('maxent_ne_chunker')"
   ]
  },
  {
   "cell_type": "code",
   "execution_count": 15,
   "metadata": {
    "ExecuteTime": {
     "end_time": "2020-06-27T02:05:05.591016Z",
     "start_time": "2020-06-27T02:05:02.718111Z"
    }
   },
   "outputs": [
    {
     "name": "stderr",
     "output_type": "stream",
     "text": [
      "[nltk_data] Downloading package words to\n",
      "[nltk_data]     C:\\Users\\likeo\\AppData\\Roaming\\nltk_data...\n",
      "[nltk_data]   Unzipping corpora\\words.zip.\n"
     ]
    },
    {
     "data": {
      "text/plain": [
       "True"
      ]
     },
     "execution_count": 15,
     "metadata": {},
     "output_type": "execute_result"
    }
   ],
   "source": [
    "nltk.download('words')"
   ]
  },
  {
   "cell_type": "code",
   "execution_count": 3,
   "metadata": {
    "ExecuteTime": {
     "end_time": "2020-06-27T02:38:15.294325Z",
     "start_time": "2020-06-27T02:38:15.289141Z"
    }
   },
   "outputs": [],
   "source": [
    "articles=article[0] + article[1] + article[2] + article[3] +article[4] +article[5] +article[6] +article[7] +article[7] +article[8]"
   ]
  },
  {
   "cell_type": "code",
   "execution_count": 4,
   "metadata": {
    "ExecuteTime": {
     "end_time": "2020-06-27T02:38:16.299782Z",
     "start_time": "2020-06-27T02:38:15.729748Z"
    }
   },
   "outputs": [
    {
     "name": "stdout",
     "output_type": "stream",
     "text": [
      "(NE Maryland/NNP)\n",
      "(NE College/NNP Park/NNP Lines/NNP)\n",
      "(NE Bricklin/NNP)\n",
      "(NE Lerxst/NNP)\n",
      "(NE Guy/NNP Kuo/NNP)\n",
      "(NE Final/NNP Call/NNP)\n",
      "(NE Washington/NNP Lines/NNPS)\n",
      "(NE Please/NNP)\n",
      "(NE CPU/NNP)\n",
      "(NE Guy/NNP Kuo/NNP)\n",
      "(NE Thomas/NNP)\n",
      "(NE\n",
      "  Purdue/NNP\n",
      "  University/NNP\n",
      "  Engineering/NNP\n",
      "  Computer/NNP\n",
      "  Network/NNP\n",
      "  Distribution/NNP)\n",
      "(NE Joe/NNP Green/NNP)\n",
      "(NE Weitek/NNP P9000/NNP)\n",
      "(NE Organization/NN)\n",
      "(NE Harris/NNP Computer/NNP Systems/NNPS Division/NNP Lines/NNPS)\n",
      "(NE TIN/NNP)\n",
      "(NE Robert/NNP)\n",
      "(NE Weitek/NNP P9000/NNP)\n",
      "(NE Weitek/NNP)\n",
      "(NE Joe/NNP Green/NNP Harris/NNP Corporation/NNP)\n",
      "(NE Computer/NNP Systems/NNPS Division/NNP)\n",
      "(NE Jonathan/NNP)\n",
      "(NE Smithsonian/JJ Astrophysical/NNP Observatory/NNP)\n",
      "(NE Cambridge/NNP)\n",
      "(NE MA/NNP)\n",
      "(NE USA/NNP Distribution/NNP)\n",
      "(NE ETRAT/NNP)\n",
      "(NE Pack/NNP Rat/NNP)\n",
      "(NE Verify/NNP)\n",
      "(NE Sorry/NNP)\n",
      "(NE Jonathan/NN From/IN)\n",
      "(NE Foxvog/NNP Douglas/NNP)\n",
      "(NE Second/NNP Amendment/NNP)\n",
      "(NE VTT/NNP Lines/NNPS)\n",
      "(NE Foxvog/NNP Douglas/NNP)\n",
      "(NE John/NNP Lawrence/NNP Rutledge/NNP)\n",
      "(NE Individual/JJ)\n",
      "(NE Needless/NN)\n",
      "(NE Doug/NNP Foxvog/NNP)\n",
      "(NE CBW/NNP)\n",
      "(NE Sarah/NNP Brady/NNP)\n",
      "(NE Street/NNP Sweeper/NNP)\n",
      "(NE John/NNP)\n",
      "(NE US/NNP)\n",
      "(NE Packet/NNP)\n",
      "(NE Brain/NNP Tumor/NNP)\n",
      "(NE Chicago/NNP Lines/NNPS)\n",
      "(NE Sean/NNP)\n",
      "(NE Debra/NNP)\n",
      "(NE Sharon/NNP)\n",
      "(NE GRUBB/NNP)\n",
      "(NE SCSI/NNP Organization/NNP)\n",
      "(NE Las/NNP Cruces/NNP)\n",
      "(NE NM/NNP Lines/NNPS)\n",
      "(NE DXB132/NNP)\n",
      "(NE GRUBB/NNP)\n",
      "(NE PC/NNP Magazine/NNP)\n",
      "(NE SCSI/NNP)\n",
      "(NE ESDI/NNP)\n",
      "(NE IDE/NNP)\n",
      "(NE ESDI/NNP)\n",
      "(NE SCSI/NNP)\n",
      "(NE SCSI/NNP)\n",
      "(NE INCREASE/NNP)\n",
      "(NE SPEED/NNP)\n",
      "(NE Mac/NNP Quadra/NNP)\n",
      "(NE AND/NNP)\n",
      "(NE SCSI/NNP)\n",
      "(NE ESDI/NNP)\n",
      "(NE IDE/NNP)\n",
      "(NE IBM/NNP)\n",
      "(NE FTP/NNP)\n",
      "(NE IBM/NNP)\n",
      "(NE SCSI/NNP)\n",
      "(NE Quadra/NNP)\n",
      "(NE Quadra/NNP)\n",
      "(NE ANsynchronous/NNP)\n",
      "(NE SLOWER/NNP)\n",
      "(NE Mac/NNP)\n",
      "(NE IBM/NNP)\n",
      "(NE Which/NNP)\n",
      "(NE MUCH/NNP)\n",
      "(NE Quadra/NNP)\n",
      "(NE Digital/NNP Review/NNP)\n",
      "(NE GRUBB/NNP)\n",
      "(NE SCSI/NNP Organization/NNP)\n",
      "(NE Las/NNP Cruces/NNP)\n",
      "(NE NM/NNP Lines/NNPS)\n",
      "(NE DXB132/NNP)\n",
      "(NE GRUBB/NNP)\n",
      "(NE PC/NNP Magazine/NNP)\n",
      "(NE SCSI/NNP)\n",
      "(NE ESDI/NNP)\n",
      "(NE IDE/NNP)\n",
      "(NE ESDI/NNP)\n",
      "(NE SCSI/NNP)\n",
      "(NE SCSI/NNP)\n",
      "(NE INCREASE/NNP)\n",
      "(NE SPEED/NNP)\n",
      "(NE Mac/NNP Quadra/NNP)\n",
      "(NE AND/NNP)\n",
      "(NE SCSI/NNP)\n",
      "(NE ESDI/NNP)\n",
      "(NE IDE/NNP)\n",
      "(NE IBM/NNP)\n",
      "(NE FTP/NNP)\n",
      "(NE IBM/NNP)\n",
      "(NE SCSI/NNP)\n",
      "(NE Quadra/NNP)\n",
      "(NE Quadra/NNP)\n",
      "(NE ANsynchronous/NNP)\n",
      "(NE SLOWER/NNP)\n",
      "(NE Mac/NNP)\n",
      "(NE IBM/NNP)\n",
      "(NE Which/NNP)\n",
      "(NE MUCH/NNP)\n",
      "(NE Quadra/NNP)\n",
      "(NE Digital/NNP Review/NNP)\n",
      "(NE ICON/NNP)\n",
      "(NE Organization/NN)\n",
      "(NE Northern/NNP Iowa/NNP Lines/NNPS)\n",
      "(NE BMP/NNP)\n",
      "(NE Thanx/NNP)\n"
     ]
    }
   ],
   "source": [
    "# Tokenize the article into sentences: sentences\n",
    "sentences = nltk.sent_tokenize(articles)\n",
    "\n",
    "# Tokenize each sentence into words: token_sentences\n",
    "token_sentences = [nltk.word_tokenize(sent) for sent in sentences]\n",
    "\n",
    "# Tag each tokenized sentence into parts of speech: pos_sentences\n",
    "pos_sentences = [nltk.pos_tag(sent) for sent in token_sentences] \n",
    "\n",
    "# Create the named entity chunks: chunked_sentences\n",
    "chunked_sentences = nltk.ne_chunk_sents(pos_sentences, binary=True)\n",
    "\n",
    "# Test for stems of the tree with 'NE' tags\n",
    "for sent in chunked_sentences:\n",
    "    for chunk in sent:\n",
    "        if hasattr(chunk, \"label\") and chunk.label() == \"NE\":\n",
    "            print(chunk)\n"
   ]
  },
  {
   "cell_type": "code",
   "execution_count": 5,
   "metadata": {
    "ExecuteTime": {
     "end_time": "2020-06-27T02:38:18.103376Z",
     "start_time": "2020-06-27T02:38:18.100308Z"
    }
   },
   "outputs": [],
   "source": [
    "from collections import defaultdict\n",
    "import matplotlib.pyplot as plt"
   ]
  },
  {
   "cell_type": "code",
   "execution_count": 6,
   "metadata": {
    "ExecuteTime": {
     "end_time": "2020-06-27T02:38:18.942631Z",
     "start_time": "2020-06-27T02:38:18.637893Z"
    },
    "collapsed": true
   },
   "outputs": [
    {
     "data": {
      "image/png": "[encoded data removed]",
      "text/plain": [
       "<Figure size 4200x1200 with 1 Axes>"
      ]
     },
     "metadata": {},
     "output_type": "display_data"
    }
   ],
   "source": [
    "# Create the defaultdict: ner_categories\n",
    "ner_categories = defaultdict(int)\n",
    "\n",
    "# Create the nested for loop\n",
    "for sent in chunked_sentences:\n",
    "    for chunk in sent:\n",
    "        if hasattr(chunk, 'label'):\n",
    "            ner_categories[chunk.label()] += 1\n",
    "            \n",
    "# Create a list from the dictionary keys for the chart labels: labels\n",
    "labels = list(ner_categories.keys())\n",
    "\n",
    "# Create a list of the values: values\n",
    "values = [ner_categories.get(v) for v in labels]\n",
    "\n",
    "# Create the pie chart\n",
    "plt.pie(values, labels=labels, autopct='%1.1f%%', startangle=140)\n",
    "\n",
    "# Display the chart\n",
    "plt.show()"
   ]
  },
  {
   "cell_type": "markdown",
   "metadata": {},
   "source": [
    "what is spacy?\n",
    "- nlp library similar to gensim, with different implementations\n",
    "- focus on creating nlp pipelines to generate models and corpora\n",
    "\n",
    "why use spacy for NER?\n",
    "- easy pipeline creation\n",
    "- different entity types compared to nltk\n",
    "- imformal language corpora\n",
    "\t- easily find entities in tweets and chat message\n",
    "- quickly growing!"
   ]
  },
  {
   "cell_type": "markdown",
   "metadata": {},
   "source": [
    "#### Comparing NLTK with spaCy NER\n"
   ]
  },
  {
   "cell_type": "code",
   "execution_count": 7,
   "metadata": {
    "ExecuteTime": {
     "end_time": "2020-06-27T02:43:27.305531Z",
     "start_time": "2020-06-27T02:43:26.116394Z"
    }
   },
   "outputs": [],
   "source": [
    "import spacy"
   ]
  },
  {
   "cell_type": "code",
   "execution_count": 11,
   "metadata": {
    "ExecuteTime": {
     "end_time": "2020-06-27T03:06:29.523522Z",
     "start_time": "2020-06-27T03:06:28.794476Z"
    }
   },
   "outputs": [],
   "source": [
    "# Import spacy\n",
    "import spacy\n",
    "\n",
    "# Instantiate the English model: nlp\n",
    "nlp = spacy.load('en', tagger = False, parser = False,\n",
    "                matcher = False)"
   ]
  },
  {
   "cell_type": "code",
   "execution_count": 12,
   "metadata": {
    "ExecuteTime": {
     "end_time": "2020-06-27T03:06:32.528065Z",
     "start_time": "2020-06-27T03:06:31.375725Z"
    }
   },
   "outputs": [
    {
     "name": "stdout",
     "output_type": "stream",
     "text": [
      "CARDINAL 15\n",
      "DATE the other day\n",
      "QUANTITY 2-door\n",
      "DATE early 70s\n",
      "PRODUCT Bricklin\n",
      "DATE years\n",
      "PERSON Lerxst\n",
      "PERSON Guy Kuo\n",
      "ORG SI\n",
      "ORG SI\n",
      "ORG shelley.1qvfo9INNc3s\n",
      "Organization:\n",
      "CARDINAL 11\n",
      "ORG SI\n",
      "TIME hour\n",
      "CARDINAL 800\n",
      "MONEY 1.4 m floppies\n",
      "DATE the next two days\n",
      "PERSON Guy Kuo\n",
      "PERSON Thomas E Willis\n",
      "ORG PB\n",
      "ORG Purdue University Engineering Computer Network\n",
      "\n",
      "CARDINAL 36\n",
      "DATE this weekend\n",
      "CARDINAL 512k\n",
      "DATE 1985\n",
      "CARDINAL 160\n",
      "CARDINAL 180\n",
      "FAC 185c\n",
      "DATE this summer\n",
      "CARDINAL 180\n",
      "CARDINAL 180\n",
      "CARDINAL 80Mb\n",
      "CARDINAL 120\n",
      "CARDINAL 160\n",
      "CARDINAL 180\n",
      "PERSON Tom Willis\n",
      "FAC Purdue Electrical Engineering\n",
      "PERSON jgreen@amber\n",
      "PERSON Joe Green\n",
      "PERSON Weitek P9000\n",
      "CARDINAL 14\n",
      "CARDINAL 1.1\n",
      "PRODUCT PL9\n",
      "PERSON Robert J.C. Kyanko\n",
      "PERSON UUCP\n",
      "GPE Weitek\n",
      "CARDINAL four\n",
      "ORG Weitek\n",
      "PERSON Joe Green\t\t\t\t\n",
      "PERSON -- Jonathan Winters\n",
      "\n",
      "PERSON Jonathan McDowell\n",
      "ORG Smithsonian Astrophysical Observatory\n",
      "GPE Cambridge\n",
      "GPE MA\n",
      "CARDINAL 23\n",
      "PERSON Tom A Baker\n",
      "ORG Verify\n",
      "PERSON tom\n",
      "CARDINAL 213\n",
      "PERSON Foxvog Douglas\n",
      "LAW the Second Amendment\n",
      "CARDINAL 58\n",
      "ORG cdt@sw.stratus.com\n",
      "CARDINAL 1993Apr20.083057.16899@ousrvr.oulu.fi\n",
      "PERSON Foxvog Douglas\n",
      "ORG cdt@sw.stratus.com\n",
      "PERSON John Lawrence Rutledge\n",
      "CARDINAL millions\n",
      "PERSON Doug Foxvog\n",
      "ORG CBW\n",
      "PERSON Sarah Brady\n",
      "ORG Street Sweeper\n",
      "ORG SKS\n",
      "PERSON John\n",
      "\n",
      "PERSON Lawrence Rutledge\n",
      "GPE US\n",
      "CARDINAL thousands\n",
      "DATE each year\n",
      "ORG handguns\n",
      "ORG Rutledge\n",
      "ORDINAL first\n",
      "ORDINAL first\n",
      "DATE today\n",
      "PERSON doug foxvog\n",
      "\n",
      "ORG brian manning delaney\n",
      "CARDINAL 12\n",
      "NORP Sean\n",
      "PERSON Debra\n",
      "PERSON Sharon\n",
      "DATE last September\n",
      "ORG GRUBB\n",
      "ORG IDE\n",
      "ORG SCSI\n",
      "LOC Las Cruces\n",
      "CARDINAL 44\n",
      "CARDINAL 1qlbrlINN7rk@dns1.NMSU.Edu\n",
      "ORG GRUBB\n",
      "DATE April 27\n",
      "ORG SCSI\n",
      "ORG ESDI\n",
      "PERCENT 20%\n",
      "ORG IDE\n",
      "CARDINAL up to 7\n",
      "ORG SCSI\n",
      "DATE 0-5MB/s\n",
      "ORG SCSI-II\n",
      "CARDINAL 0\n",
      "ORG IDE\n",
      "QUANTITY 0-8.3MB/s\n",
      "QUANTITY 1.25MB/s\n",
      "ORG SCSI\n",
      "DATE 0-5MB\n",
      "ORG SCSI\n",
      "CARDINAL 4\n",
      "CARDINAL 10MB\n",
      "ORG INCREASE\n",
      "ORG SPEED\n",
      "PERSON Mac Quadra\n",
      "PERSON 8-bit\n",
      "QUANTITY 10MB/s\n",
      "CARDINAL 16-bit\n",
      "QUANTITY 8-12MB/\n",
      "QUANTITY 20MB/s\n",
      "QUANTITY 32-bit\n",
      "CARDINAL 15\n",
      "QUANTITY 40MB/s burst\n",
      " \n",
      "\n",
      "ORG SCSI\n",
      "CARDINAL 10MB\n",
      "PERCENT 20%\n",
      "ORG IDE\n",
      "PERCENT 120%\n",
      "CARDINAL 8.3\n",
      "CARDINAL 9.96\n",
      "ORG SCSI\n",
      "ORG Mac & IBM\n",
      "ORG FTP\n",
      "ORG mac-ibm-compare[version\n",
      "CARDINAL 173\n",
      "CARDINAL 161\n",
      "ORG Mac\n",
      "ORG IBM\n",
      "ORG SCSI\n",
      "ORG Quadra\n",
      "ORG Apple\n",
      "WORK_OF_ART {Not at a\n",
      "NORP Quadra\n",
      "ORG Mac\n",
      "ORG IBM\n",
      "CARDINAL One\n",
      "GPE Quadra\n",
      "ORG Digital Review\n",
      "DATE Oct 21, 1991\n",
      "GPE p8(1\n",
      "LOC Las Cruces\n",
      "CARDINAL 44\n",
      "CARDINAL 1qlbrlINN7rk@dns1.NMSU.Edu\n",
      "ORG GRUBB\n",
      "DATE April 27\n",
      "ORG SCSI\n",
      "ORG ESDI\n",
      "PERCENT 20%\n",
      "ORG IDE\n",
      "CARDINAL up to 7\n",
      "ORG SCSI\n",
      "DATE 0-5MB/s\n",
      "ORG SCSI-II\n",
      "CARDINAL 0\n",
      "ORG IDE\n",
      "QUANTITY 0-8.3MB/s\n",
      "QUANTITY 1.25MB/s\n",
      "ORG SCSI\n",
      "DATE 0-5MB\n",
      "ORG SCSI\n",
      "CARDINAL 4\n",
      "CARDINAL 10MB\n",
      "ORG INCREASE\n",
      "ORG SPEED\n",
      "PERSON Mac Quadra\n",
      "PERSON 8-bit\n",
      "QUANTITY 10MB/s\n",
      "CARDINAL 16-bit\n",
      "QUANTITY 8-12MB/\n",
      "QUANTITY 20MB/s\n",
      "QUANTITY 32-bit\n",
      "CARDINAL 15\n",
      "QUANTITY 40MB/s burst\n",
      " \n",
      "\n",
      "ORG SCSI\n",
      "CARDINAL 10MB\n",
      "PERCENT 20%\n",
      "ORG IDE\n",
      "PERCENT 120%\n",
      "CARDINAL 8.3\n",
      "CARDINAL 9.96\n",
      "ORG SCSI\n",
      "ORG Mac & IBM\n",
      "ORG FTP\n",
      "ORG mac-ibm-compare[version\n",
      "CARDINAL 173\n",
      "CARDINAL 161\n",
      "ORG Mac\n",
      "ORG IBM\n",
      "ORG SCSI\n",
      "ORG Quadra\n",
      "ORG Apple\n",
      "WORK_OF_ART {Not at a\n",
      "NORP Quadra\n",
      "ORG Mac\n",
      "ORG IBM\n",
      "CARDINAL One\n",
      "GPE Quadra\n",
      "ORG Digital Review\n",
      "DATE Oct 21, 1991\n",
      "GPE p8(1\n",
      "CARDINAL 3.0\n",
      "CARDINAL 10\n",
      "CARDINAL 3.0\n",
      "ORG BMP\n",
      "PERSON Thanx\n"
     ]
    }
   ],
   "source": [
    "# Create a new document: doc\n",
    "doc = nlp(articles)\n",
    "\n",
    "# Print all of the found entities and their labels\n",
    "for ent in doc.ents:\n",
    "    print(ent.label_, ent.text)"
   ]
  }
 ],
 "metadata": {
  "kernelspec": {
   "display_name": "Python 3",
   "language": "python",
   "name": "python3"
  },
  "language_info": {
   "codemirror_mode": {
    "name": "ipython",
    "version": 3
   },
   "file_extension": ".py",
   "mimetype": "text/x-python",
   "name": "python",
   "nbconvert_exporter": "python",
   "pygments_lexer": "ipython3",
   "version": "3.7.4"
  },
  "varInspector": {
   "cols": {
    "lenName": 16,
    "lenType": 16,
    "lenVar": 40
   },
   "kernels_config": {
    "python": {
     "delete_cmd_postfix": "",
     "delete_cmd_prefix": "del ",
     "library": "var_list.py",
     "varRefreshCmd": "print(var_dic_list())"
    },
    "r": {
     "delete_cmd_postfix": ") ",
     "delete_cmd_prefix": "rm(",
     "library": "var_list.r",
     "varRefreshCmd": "cat(var_dic_list()) "
    }
   },
   "types_to_exclude": [
    "module",
    "function",
    "builtin_function_or_method",
    "instance",
    "_Feature"
   ],
   "window_display": false
  }
 },
 "nbformat": 4,
 "nbformat_minor": 2
}
